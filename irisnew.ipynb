{
 "cells": [
  {
   "cell_type": "code",
   "execution_count": 1,
   "metadata": {},
   "outputs": [
    {
     "name": "stderr",
     "output_type": "stream",
     "text": [
      "C:\\Users\\anand\\AppData\\Local\\Temp\\ipykernel_25916\\1421868926.py:1: DeprecationWarning: \n",
      "Pyarrow will become a required dependency of pandas in the next major release of pandas (pandas 3.0),\n",
      "(to allow more performant data types, such as the Arrow string type, and better interoperability with other libraries)\n",
      "but was not found to be installed on your system.\n",
      "If this would cause problems for you,\n",
      "please provide us feedback at https://github.com/pandas-dev/pandas/issues/54466\n",
      "        \n",
      "  import pandas as pd\n"
     ]
    },
    {
     "data": {
      "text/html": [
       "<div>\n",
       "<style scoped>\n",
       "    .dataframe tbody tr th:only-of-type {\n",
       "        vertical-align: middle;\n",
       "    }\n",
       "\n",
       "    .dataframe tbody tr th {\n",
       "        vertical-align: top;\n",
       "    }\n",
       "\n",
       "    .dataframe thead th {\n",
       "        text-align: right;\n",
       "    }\n",
       "</style>\n",
       "<table border=\"1\" class=\"dataframe\">\n",
       "  <thead>\n",
       "    <tr style=\"text-align: right;\">\n",
       "      <th></th>\n",
       "      <th>sepal length</th>\n",
       "      <th>sepal width</th>\n",
       "      <th>petal length</th>\n",
       "      <th>petal width</th>\n",
       "      <th>class(0,1,2)</th>\n",
       "    </tr>\n",
       "  </thead>\n",
       "  <tbody>\n",
       "    <tr>\n",
       "      <th>0</th>\n",
       "      <td>5.1</td>\n",
       "      <td>3.5</td>\n",
       "      <td>1.4</td>\n",
       "      <td>0.2</td>\n",
       "      <td>0</td>\n",
       "    </tr>\n",
       "    <tr>\n",
       "      <th>1</th>\n",
       "      <td>4.9</td>\n",
       "      <td>3.0</td>\n",
       "      <td>1.4</td>\n",
       "      <td>0.2</td>\n",
       "      <td>0</td>\n",
       "    </tr>\n",
       "    <tr>\n",
       "      <th>2</th>\n",
       "      <td>4.7</td>\n",
       "      <td>3.2</td>\n",
       "      <td>1.3</td>\n",
       "      <td>0.2</td>\n",
       "      <td>0</td>\n",
       "    </tr>\n",
       "    <tr>\n",
       "      <th>3</th>\n",
       "      <td>4.6</td>\n",
       "      <td>3.1</td>\n",
       "      <td>1.5</td>\n",
       "      <td>0.2</td>\n",
       "      <td>0</td>\n",
       "    </tr>\n",
       "    <tr>\n",
       "      <th>4</th>\n",
       "      <td>5.0</td>\n",
       "      <td>3.6</td>\n",
       "      <td>1.4</td>\n",
       "      <td>0.2</td>\n",
       "      <td>0</td>\n",
       "    </tr>\n",
       "  </tbody>\n",
       "</table>\n",
       "</div>"
      ],
      "text/plain": [
       "   sepal length  sepal width  petal length  petal width  class(0,1,2)\n",
       "0           5.1          3.5           1.4          0.2             0\n",
       "1           4.9          3.0           1.4          0.2             0\n",
       "2           4.7          3.2           1.3          0.2             0\n",
       "3           4.6          3.1           1.5          0.2             0\n",
       "4           5.0          3.6           1.4          0.2             0"
      ]
     },
     "execution_count": 1,
     "metadata": {},
     "output_type": "execute_result"
    }
   ],
   "source": [
    "import pandas as pd\n",
    "\n",
    "flowers=pd.read_csv(\"data.csv\")\n",
    "\n",
    "flowers.head()"
   ]
  },
  {
   "cell_type": "code",
   "execution_count": 2,
   "metadata": {},
   "outputs": [
    {
     "name": "stdout",
     "output_type": "stream",
     "text": [
      "Matrix X shape: (150, 4)\n",
      "Matrix Y shape: (150, 1)\n"
     ]
    }
   ],
   "source": [
    "X = flowers.iloc[:, :-1].values\n",
    "Y = flowers.iloc[:, -1:].values\n",
    "\n",
    "print(\"Matrix X shape:\", X.shape)\n",
    "print(\"Matrix Y shape:\", Y.shape)"
   ]
  },
  {
   "cell_type": "code",
   "execution_count": 3,
   "metadata": {},
   "outputs": [],
   "source": [
    "import numpy as np\n",
    "import tensorflow as tf\n",
    "from tensorflow.keras.models import Sequential\n",
    "from tensorflow.keras.layers import Dense\n",
    "from tensorflow.keras.activations import linear, relu, sigmoid\n",
    "\n",
    "import logging\n",
    "logging.getLogger(\"tensorflow\").setLevel(logging.ERROR)\n",
    "tf.autograph.set_verbosity(0)\n",
    "\n",
    "np.set_printoptions(precision=2)\n"
   ]
  },
  {
   "cell_type": "code",
   "execution_count": 4,
   "metadata": {
    "scrolled": true
   },
   "outputs": [
    {
     "name": "stdout",
     "output_type": "stream",
     "text": [
      "The first element of X is:  [5.1 3.5 1.4 0.2]\n"
     ]
    }
   ],
   "source": [
    "print ('The first element of X is: ', X[0])"
   ]
  },
  {
   "cell_type": "code",
   "execution_count": 5,
   "metadata": {},
   "outputs": [
    {
     "name": "stdout",
     "output_type": "stream",
     "text": [
      "The first element of y is:  0\n",
      "The last element of y is:  2\n"
     ]
    }
   ],
   "source": [
    "print ('The first element of y is: ', Y[0,0])\n",
    "print ('The last element of y is: ', Y[-1,0])"
   ]
  },
  {
   "cell_type": "code",
   "execution_count": 6,
   "metadata": {},
   "outputs": [
    {
     "name": "stdout",
     "output_type": "stream",
     "text": [
      "The shape of X is: (150, 4)\n",
      "The shape of y is: (150, 1)\n"
     ]
    }
   ],
   "source": [
    "print ('The shape of X is: ' + str(X.shape))\n",
    "print ('The shape of y is: ' + str(Y.shape))"
   ]
  },
  {
   "cell_type": "code",
   "execution_count": 7,
   "metadata": {},
   "outputs": [],
   "source": [
    "X_min = np.min(X)\n",
    "X_max = np.max(X)\n",
    "X = (X - X_min) / (X_max - X_min)\n"
   ]
  },
  {
   "cell_type": "code",
   "execution_count": 8,
   "metadata": {},
   "outputs": [
    {
     "data": {
      "text/plain": [
       "array([[0.64, 0.44, 0.17, 0.01],\n",
       "       [0.62, 0.37, 0.17, 0.01],\n",
       "       [0.59, 0.4 , 0.15, 0.01],\n",
       "       [0.58, 0.38, 0.18, 0.01],\n",
       "       [0.63, 0.45, 0.17, 0.01],\n",
       "       [0.68, 0.49, 0.21, 0.04],\n",
       "       [0.58, 0.42, 0.17, 0.03],\n",
       "       [0.63, 0.42, 0.18, 0.01],\n",
       "       [0.55, 0.36, 0.17, 0.01],\n",
       "       [0.62, 0.38, 0.18, 0.  ],\n",
       "       [0.68, 0.46, 0.18, 0.01],\n",
       "       [0.6 , 0.42, 0.19, 0.01],\n",
       "       [0.6 , 0.37, 0.17, 0.  ],\n",
       "       [0.54, 0.37, 0.13, 0.  ],\n",
       "       [0.73, 0.5 , 0.14, 0.01],\n",
       "       [0.72, 0.55, 0.18, 0.04],\n",
       "       [0.68, 0.49, 0.15, 0.04],\n",
       "       [0.64, 0.44, 0.17, 0.03],\n",
       "       [0.72, 0.47, 0.21, 0.03],\n",
       "       [0.64, 0.47, 0.18, 0.03],\n",
       "       [0.68, 0.42, 0.21, 0.01],\n",
       "       [0.64, 0.46, 0.18, 0.04],\n",
       "       [0.58, 0.45, 0.12, 0.01],\n",
       "       [0.64, 0.41, 0.21, 0.05],\n",
       "       [0.6 , 0.42, 0.23, 0.01],\n",
       "       [0.63, 0.37, 0.19, 0.01],\n",
       "       [0.63, 0.42, 0.19, 0.04],\n",
       "       [0.65, 0.44, 0.18, 0.01],\n",
       "       [0.65, 0.42, 0.17, 0.01],\n",
       "       [0.59, 0.4 , 0.19, 0.01],\n",
       "       [0.6 , 0.38, 0.19, 0.01],\n",
       "       [0.68, 0.42, 0.18, 0.04],\n",
       "       [0.65, 0.51, 0.18, 0.  ],\n",
       "       [0.69, 0.53, 0.17, 0.01],\n",
       "       [0.62, 0.38, 0.18, 0.  ],\n",
       "       [0.63, 0.4 , 0.14, 0.01],\n",
       "       [0.69, 0.44, 0.15, 0.01],\n",
       "       [0.62, 0.38, 0.18, 0.  ],\n",
       "       [0.55, 0.37, 0.15, 0.01],\n",
       "       [0.64, 0.42, 0.18, 0.01],\n",
       "       [0.63, 0.44, 0.15, 0.03],\n",
       "       [0.56, 0.28, 0.15, 0.03],\n",
       "       [0.55, 0.4 , 0.15, 0.01],\n",
       "       [0.63, 0.44, 0.19, 0.06],\n",
       "       [0.64, 0.47, 0.23, 0.04],\n",
       "       [0.6 , 0.37, 0.17, 0.03],\n",
       "       [0.64, 0.47, 0.19, 0.01],\n",
       "       [0.58, 0.4 , 0.17, 0.01],\n",
       "       [0.67, 0.46, 0.18, 0.01],\n",
       "       [0.63, 0.41, 0.17, 0.01],\n",
       "       [0.88, 0.4 , 0.59, 0.17],\n",
       "       [0.81, 0.4 , 0.56, 0.18],\n",
       "       [0.87, 0.38, 0.62, 0.18],\n",
       "       [0.69, 0.28, 0.5 , 0.15],\n",
       "       [0.82, 0.35, 0.58, 0.18],\n",
       "       [0.72, 0.35, 0.56, 0.15],\n",
       "       [0.79, 0.41, 0.59, 0.19],\n",
       "       [0.62, 0.29, 0.41, 0.12],\n",
       "       [0.83, 0.36, 0.58, 0.15],\n",
       "       [0.65, 0.33, 0.49, 0.17],\n",
       "       [0.63, 0.24, 0.44, 0.12],\n",
       "       [0.74, 0.37, 0.53, 0.18],\n",
       "       [0.76, 0.27, 0.5 , 0.12],\n",
       "       [0.77, 0.36, 0.59, 0.17],\n",
       "       [0.71, 0.36, 0.45, 0.15],\n",
       "       [0.85, 0.38, 0.55, 0.17],\n",
       "       [0.71, 0.37, 0.56, 0.18],\n",
       "       [0.73, 0.33, 0.51, 0.12],\n",
       "       [0.78, 0.27, 0.56, 0.18],\n",
       "       [0.71, 0.31, 0.49, 0.13],\n",
       "       [0.74, 0.4 , 0.6 , 0.22],\n",
       "       [0.77, 0.35, 0.5 , 0.15],\n",
       "       [0.79, 0.31, 0.62, 0.18],\n",
       "       [0.77, 0.35, 0.59, 0.14],\n",
       "       [0.81, 0.36, 0.54, 0.15],\n",
       "       [0.83, 0.37, 0.55, 0.17],\n",
       "       [0.86, 0.35, 0.6 , 0.17],\n",
       "       [0.85, 0.37, 0.63, 0.21],\n",
       "       [0.76, 0.36, 0.56, 0.18],\n",
       "       [0.72, 0.32, 0.44, 0.12],\n",
       "       [0.69, 0.29, 0.47, 0.13],\n",
       "       [0.69, 0.29, 0.46, 0.12],\n",
       "       [0.73, 0.33, 0.49, 0.14],\n",
       "       [0.76, 0.33, 0.64, 0.19],\n",
       "       [0.68, 0.37, 0.56, 0.18],\n",
       "       [0.76, 0.42, 0.56, 0.19],\n",
       "       [0.85, 0.38, 0.59, 0.18],\n",
       "       [0.79, 0.28, 0.55, 0.15],\n",
       "       [0.71, 0.37, 0.51, 0.15],\n",
       "       [0.69, 0.31, 0.5 , 0.15],\n",
       "       [0.69, 0.32, 0.55, 0.14],\n",
       "       [0.77, 0.37, 0.58, 0.17],\n",
       "       [0.73, 0.32, 0.5 , 0.14],\n",
       "       [0.63, 0.28, 0.41, 0.12],\n",
       "       [0.71, 0.33, 0.53, 0.15],\n",
       "       [0.72, 0.37, 0.53, 0.14],\n",
       "       [0.72, 0.36, 0.53, 0.15],\n",
       "       [0.78, 0.36, 0.54, 0.15],\n",
       "       [0.64, 0.31, 0.37, 0.13],\n",
       "       [0.72, 0.35, 0.51, 0.15],\n",
       "       [0.79, 0.41, 0.76, 0.31],\n",
       "       [0.73, 0.33, 0.64, 0.23],\n",
       "       [0.9 , 0.37, 0.74, 0.26],\n",
       "       [0.79, 0.36, 0.71, 0.22],\n",
       "       [0.82, 0.37, 0.73, 0.27],\n",
       "       [0.96, 0.37, 0.83, 0.26],\n",
       "       [0.62, 0.31, 0.56, 0.21],\n",
       "       [0.92, 0.36, 0.79, 0.22],\n",
       "       [0.85, 0.31, 0.73, 0.22],\n",
       "       [0.91, 0.45, 0.77, 0.31],\n",
       "       [0.82, 0.4 , 0.64, 0.24],\n",
       "       [0.81, 0.33, 0.67, 0.23],\n",
       "       [0.86, 0.37, 0.69, 0.26],\n",
       "       [0.72, 0.31, 0.63, 0.24],\n",
       "       [0.73, 0.35, 0.64, 0.29],\n",
       "       [0.81, 0.4 , 0.67, 0.28],\n",
       "       [0.82, 0.37, 0.69, 0.22],\n",
       "       [0.97, 0.47, 0.85, 0.27],\n",
       "       [0.97, 0.32, 0.87, 0.28],\n",
       "       [0.76, 0.27, 0.63, 0.18],\n",
       "       [0.87, 0.4 , 0.72, 0.28],\n",
       "       [0.71, 0.35, 0.62, 0.24],\n",
       "       [0.97, 0.35, 0.85, 0.24],\n",
       "       [0.79, 0.33, 0.62, 0.22],\n",
       "       [0.85, 0.41, 0.72, 0.26],\n",
       "       [0.91, 0.4 , 0.76, 0.22],\n",
       "       [0.78, 0.35, 0.6 , 0.22],\n",
       "       [0.77, 0.37, 0.62, 0.22],\n",
       "       [0.81, 0.35, 0.71, 0.26],\n",
       "       [0.91, 0.37, 0.73, 0.19],\n",
       "       [0.94, 0.35, 0.77, 0.23],\n",
       "       [1.  , 0.47, 0.81, 0.24],\n",
       "       [0.81, 0.35, 0.71, 0.27],\n",
       "       [0.79, 0.35, 0.64, 0.18],\n",
       "       [0.77, 0.32, 0.71, 0.17],\n",
       "       [0.97, 0.37, 0.77, 0.28],\n",
       "       [0.79, 0.42, 0.71, 0.29],\n",
       "       [0.81, 0.38, 0.69, 0.22],\n",
       "       [0.76, 0.37, 0.6 , 0.22],\n",
       "       [0.87, 0.38, 0.68, 0.26],\n",
       "       [0.85, 0.38, 0.71, 0.29],\n",
       "       [0.87, 0.38, 0.64, 0.28],\n",
       "       [0.73, 0.33, 0.64, 0.23],\n",
       "       [0.86, 0.4 , 0.74, 0.28],\n",
       "       [0.85, 0.41, 0.72, 0.31],\n",
       "       [0.85, 0.37, 0.65, 0.28],\n",
       "       [0.79, 0.31, 0.63, 0.23],\n",
       "       [0.82, 0.37, 0.65, 0.24],\n",
       "       [0.78, 0.42, 0.68, 0.28],\n",
       "       [0.74, 0.37, 0.64, 0.22]])"
      ]
     },
     "execution_count": 8,
     "metadata": {},
     "output_type": "execute_result"
    }
   ],
   "source": [
    "X"
   ]
  },
  {
   "cell_type": "code",
   "execution_count": 9,
   "metadata": {},
   "outputs": [],
   "source": [
    "\n",
    "tf.random.set_seed(1234) \n",
    "model = Sequential([\n",
    "    tf.keras.layers.InputLayer((4,)),\n",
    "    tf.keras.layers.Dense(16, activation=\"relu\", name=\"L1\"),\n",
    "    tf.keras.layers.Dense(8, activation=\"relu\", name=\"L2\"),\n",
    "    tf.keras.layers.Dense(3, activation=\"softmax\", name=\"Output\"),\n",
    "], name=\"my_model\")\n"
   ]
  },
  {
   "cell_type": "code",
   "execution_count": 10,
   "metadata": {},
   "outputs": [
    {
     "data": {
      "text/html": [
       "<pre style=\"white-space:pre;overflow-x:auto;line-height:normal;font-family:Menlo,'DejaVu Sans Mono',consolas,'Courier New',monospace\"><span style=\"font-weight: bold\">Model: \"my_model\"</span>\n",
       "</pre>\n"
      ],
      "text/plain": [
       "\u001b[1mModel: \"my_model\"\u001b[0m\n"
      ]
     },
     "metadata": {},
     "output_type": "display_data"
    },
    {
     "data": {
      "text/html": [
       "<pre style=\"white-space:pre;overflow-x:auto;line-height:normal;font-family:Menlo,'DejaVu Sans Mono',consolas,'Courier New',monospace\">┏━━━━━━━━━━━━━━━━━━━━━━━━━━━━━━━━━━━━━━┳━━━━━━━━━━━━━━━━━━━━━━━━━━━━━┳━━━━━━━━━━━━━━━━━┓\n",
       "┃<span style=\"font-weight: bold\"> Layer (type)                         </span>┃<span style=\"font-weight: bold\"> Output Shape                </span>┃<span style=\"font-weight: bold\">         Param # </span>┃\n",
       "┡━━━━━━━━━━━━━━━━━━━━━━━━━━━━━━━━━━━━━━╇━━━━━━━━━━━━━━━━━━━━━━━━━━━━━╇━━━━━━━━━━━━━━━━━┩\n",
       "│ L1 (<span style=\"color: #0087ff; text-decoration-color: #0087ff\">Dense</span>)                           │ (<span style=\"color: #00d7ff; text-decoration-color: #00d7ff\">None</span>, <span style=\"color: #00af00; text-decoration-color: #00af00\">16</span>)                  │              <span style=\"color: #00af00; text-decoration-color: #00af00\">80</span> │\n",
       "├──────────────────────────────────────┼─────────────────────────────┼─────────────────┤\n",
       "│ L2 (<span style=\"color: #0087ff; text-decoration-color: #0087ff\">Dense</span>)                           │ (<span style=\"color: #00d7ff; text-decoration-color: #00d7ff\">None</span>, <span style=\"color: #00af00; text-decoration-color: #00af00\">8</span>)                   │             <span style=\"color: #00af00; text-decoration-color: #00af00\">136</span> │\n",
       "├──────────────────────────────────────┼─────────────────────────────┼─────────────────┤\n",
       "│ Output (<span style=\"color: #0087ff; text-decoration-color: #0087ff\">Dense</span>)                       │ (<span style=\"color: #00d7ff; text-decoration-color: #00d7ff\">None</span>, <span style=\"color: #00af00; text-decoration-color: #00af00\">3</span>)                   │              <span style=\"color: #00af00; text-decoration-color: #00af00\">27</span> │\n",
       "└──────────────────────────────────────┴─────────────────────────────┴─────────────────┘\n",
       "</pre>\n"
      ],
      "text/plain": [
       "┏━━━━━━━━━━━━━━━━━━━━━━━━━━━━━━━━━━━━━━┳━━━━━━━━━━━━━━━━━━━━━━━━━━━━━┳━━━━━━━━━━━━━━━━━┓\n",
       "┃\u001b[1m \u001b[0m\u001b[1mLayer (type)                        \u001b[0m\u001b[1m \u001b[0m┃\u001b[1m \u001b[0m\u001b[1mOutput Shape               \u001b[0m\u001b[1m \u001b[0m┃\u001b[1m \u001b[0m\u001b[1m        Param #\u001b[0m\u001b[1m \u001b[0m┃\n",
       "┡━━━━━━━━━━━━━━━━━━━━━━━━━━━━━━━━━━━━━━╇━━━━━━━━━━━━━━━━━━━━━━━━━━━━━╇━━━━━━━━━━━━━━━━━┩\n",
       "│ L1 (\u001b[38;5;33mDense\u001b[0m)                           │ (\u001b[38;5;45mNone\u001b[0m, \u001b[38;5;34m16\u001b[0m)                  │              \u001b[38;5;34m80\u001b[0m │\n",
       "├──────────────────────────────────────┼─────────────────────────────┼─────────────────┤\n",
       "│ L2 (\u001b[38;5;33mDense\u001b[0m)                           │ (\u001b[38;5;45mNone\u001b[0m, \u001b[38;5;34m8\u001b[0m)                   │             \u001b[38;5;34m136\u001b[0m │\n",
       "├──────────────────────────────────────┼─────────────────────────────┼─────────────────┤\n",
       "│ Output (\u001b[38;5;33mDense\u001b[0m)                       │ (\u001b[38;5;45mNone\u001b[0m, \u001b[38;5;34m3\u001b[0m)                   │              \u001b[38;5;34m27\u001b[0m │\n",
       "└──────────────────────────────────────┴─────────────────────────────┴─────────────────┘\n"
      ]
     },
     "metadata": {},
     "output_type": "display_data"
    },
    {
     "data": {
      "text/html": [
       "<pre style=\"white-space:pre;overflow-x:auto;line-height:normal;font-family:Menlo,'DejaVu Sans Mono',consolas,'Courier New',monospace\"><span style=\"font-weight: bold\"> Total params: </span><span style=\"color: #00af00; text-decoration-color: #00af00\">243</span> (972.00 B)\n",
       "</pre>\n"
      ],
      "text/plain": [
       "\u001b[1m Total params: \u001b[0m\u001b[38;5;34m243\u001b[0m (972.00 B)\n"
      ]
     },
     "metadata": {},
     "output_type": "display_data"
    },
    {
     "data": {
      "text/html": [
       "<pre style=\"white-space:pre;overflow-x:auto;line-height:normal;font-family:Menlo,'DejaVu Sans Mono',consolas,'Courier New',monospace\"><span style=\"font-weight: bold\"> Trainable params: </span><span style=\"color: #00af00; text-decoration-color: #00af00\">243</span> (972.00 B)\n",
       "</pre>\n"
      ],
      "text/plain": [
       "\u001b[1m Trainable params: \u001b[0m\u001b[38;5;34m243\u001b[0m (972.00 B)\n"
      ]
     },
     "metadata": {},
     "output_type": "display_data"
    },
    {
     "data": {
      "text/html": [
       "<pre style=\"white-space:pre;overflow-x:auto;line-height:normal;font-family:Menlo,'DejaVu Sans Mono',consolas,'Courier New',monospace\"><span style=\"font-weight: bold\"> Non-trainable params: </span><span style=\"color: #00af00; text-decoration-color: #00af00\">0</span> (0.00 B)\n",
       "</pre>\n"
      ],
      "text/plain": [
       "\u001b[1m Non-trainable params: \u001b[0m\u001b[38;5;34m0\u001b[0m (0.00 B)\n"
      ]
     },
     "metadata": {},
     "output_type": "display_data"
    }
   ],
   "source": [
    "model.summary()"
   ]
  },
  {
   "cell_type": "markdown",
   "metadata": {},
   "source": [
    "Let's further examine the weights to verify that tensorflow produced the same dimensions as we calculated above."
   ]
  },
  {
   "cell_type": "code",
   "execution_count": 11,
   "metadata": {},
   "outputs": [],
   "source": [
    "[layer1, layer2, layer3] = model.layers"
   ]
  },
  {
   "cell_type": "code",
   "execution_count": 12,
   "metadata": {},
   "outputs": [
    {
     "name": "stdout",
     "output_type": "stream",
     "text": [
      "W1 shape = (4, 16), b1 shape = (16,)\n",
      "W2 shape = (16, 8), b2 shape = (8,)\n",
      "W3 shape = (8, 3), b3 shape = (3,)\n"
     ]
    }
   ],
   "source": [
    "\n",
    "W1,b1 = layer1.get_weights()\n",
    "W2,b2 = layer2.get_weights()\n",
    "W3,b3 = layer3.get_weights()\n",
    "print(f\"W1 shape = {W1.shape}, b1 shape = {b1.shape}\")\n",
    "print(f\"W2 shape = {W2.shape}, b2 shape = {b2.shape}\")\n",
    "print(f\"W3 shape = {W3.shape}, b3 shape = {b3.shape}\")"
   ]
  },
  {
   "cell_type": "code",
   "execution_count": 13,
   "metadata": {
    "scrolled": true
   },
   "outputs": [
    {
     "name": "stdout",
     "output_type": "stream",
     "text": [
      "Epoch 1/50\n",
      "\u001b[1m4/4\u001b[0m \u001b[32m━━━━━━━━━━━━━━━━━━━━\u001b[0m\u001b[37m\u001b[0m \u001b[1m2s\u001b[0m 87ms/step - accuracy: 0.1904 - loss: 1.1380 - val_accuracy: 0.0000e+00 - val_loss: 1.1179\n",
      "Epoch 2/50\n",
      "\u001b[1m4/4\u001b[0m \u001b[32m━━━━━━━━━━━━━━━━━━━━\u001b[0m\u001b[37m\u001b[0m \u001b[1m0s\u001b[0m 15ms/step - accuracy: 0.6173 - loss: 1.0784 - val_accuracy: 0.0000e+00 - val_loss: 1.2390\n",
      "Epoch 3/50\n",
      "\u001b[1m4/4\u001b[0m \u001b[32m━━━━━━━━━━━━━━━━━━━━\u001b[0m\u001b[37m\u001b[0m \u001b[1m0s\u001b[0m 16ms/step - accuracy: 0.8229 - loss: 1.0506 - val_accuracy: 0.0000e+00 - val_loss: 1.2904\n",
      "Epoch 4/50\n",
      "\u001b[1m4/4\u001b[0m \u001b[32m━━━━━━━━━━━━━━━━━━━━\u001b[0m\u001b[37m\u001b[0m \u001b[1m0s\u001b[0m 16ms/step - accuracy: 0.8229 - loss: 1.0286 - val_accuracy: 0.0000e+00 - val_loss: 1.3575\n",
      "Epoch 5/50\n",
      "\u001b[1m4/4\u001b[0m \u001b[32m━━━━━━━━━━━━━━━━━━━━\u001b[0m\u001b[37m\u001b[0m \u001b[1m0s\u001b[0m 14ms/step - accuracy: 0.8229 - loss: 1.0020 - val_accuracy: 0.0000e+00 - val_loss: 1.4396\n",
      "Epoch 6/50\n",
      "\u001b[1m4/4\u001b[0m \u001b[32m━━━━━━━━━━━━━━━━━━━━\u001b[0m\u001b[37m\u001b[0m \u001b[1m0s\u001b[0m 15ms/step - accuracy: 0.8229 - loss: 0.9699 - val_accuracy: 0.0000e+00 - val_loss: 1.5104\n",
      "Epoch 7/50\n",
      "\u001b[1m4/4\u001b[0m \u001b[32m━━━━━━━━━━━━━━━━━━━━\u001b[0m\u001b[37m\u001b[0m \u001b[1m0s\u001b[0m 15ms/step - accuracy: 0.8229 - loss: 0.9291 - val_accuracy: 0.0000e+00 - val_loss: 1.5462\n",
      "Epoch 8/50\n",
      "\u001b[1m4/4\u001b[0m \u001b[32m━━━━━━━━━━━━━━━━━━━━\u001b[0m\u001b[37m\u001b[0m \u001b[1m0s\u001b[0m 18ms/step - accuracy: 0.8229 - loss: 0.8729 - val_accuracy: 0.0000e+00 - val_loss: 1.5706\n",
      "Epoch 9/50\n",
      "\u001b[1m4/4\u001b[0m \u001b[32m━━━━━━━━━━━━━━━━━━━━\u001b[0m\u001b[37m\u001b[0m \u001b[1m0s\u001b[0m 16ms/step - accuracy: 0.8229 - loss: 0.8091 - val_accuracy: 0.0000e+00 - val_loss: 1.5632\n",
      "Epoch 10/50\n",
      "\u001b[1m4/4\u001b[0m \u001b[32m━━━━━━━━━━━━━━━━━━━━\u001b[0m\u001b[37m\u001b[0m \u001b[1m0s\u001b[0m 14ms/step - accuracy: 0.8229 - loss: 0.7327 - val_accuracy: 0.0000e+00 - val_loss: 1.5086\n",
      "Epoch 11/50\n",
      "\u001b[1m4/4\u001b[0m \u001b[32m━━━━━━━━━━━━━━━━━━━━\u001b[0m\u001b[37m\u001b[0m \u001b[1m0s\u001b[0m 14ms/step - accuracy: 0.8229 - loss: 0.6498 - val_accuracy: 0.0000e+00 - val_loss: 1.4208\n",
      "Epoch 12/50\n",
      "\u001b[1m4/4\u001b[0m \u001b[32m━━━━━━━━━━━━━━━━━━━━\u001b[0m\u001b[37m\u001b[0m \u001b[1m0s\u001b[0m 14ms/step - accuracy: 0.8229 - loss: 0.5708 - val_accuracy: 0.0000e+00 - val_loss: 1.3093\n",
      "Epoch 13/50\n",
      "\u001b[1m4/4\u001b[0m \u001b[32m━━━━━━━━━━━━━━━━━━━━\u001b[0m\u001b[37m\u001b[0m \u001b[1m0s\u001b[0m 14ms/step - accuracy: 0.8229 - loss: 0.5024 - val_accuracy: 0.0000e+00 - val_loss: 1.1877\n",
      "Epoch 14/50\n",
      "\u001b[1m4/4\u001b[0m \u001b[32m━━━━━━━━━━━━━━━━━━━━\u001b[0m\u001b[37m\u001b[0m \u001b[1m0s\u001b[0m 17ms/step - accuracy: 0.8229 - loss: 0.4507 - val_accuracy: 0.0000e+00 - val_loss: 1.0797\n",
      "Epoch 15/50\n",
      "\u001b[1m4/4\u001b[0m \u001b[32m━━━━━━━━━━━━━━━━━━━━\u001b[0m\u001b[37m\u001b[0m \u001b[1m0s\u001b[0m 16ms/step - accuracy: 0.8229 - loss: 0.4145 - val_accuracy: 0.0000e+00 - val_loss: 1.0177\n",
      "Epoch 16/50\n",
      "\u001b[1m4/4\u001b[0m \u001b[32m━━━━━━━━━━━━━━━━━━━━\u001b[0m\u001b[37m\u001b[0m \u001b[1m0s\u001b[0m 15ms/step - accuracy: 0.8229 - loss: 0.3890 - val_accuracy: 0.0000e+00 - val_loss: 1.0135\n",
      "Epoch 17/50\n",
      "\u001b[1m4/4\u001b[0m \u001b[32m━━━━━━━━━━━━━━━━━━━━\u001b[0m\u001b[37m\u001b[0m \u001b[1m0s\u001b[0m 15ms/step - accuracy: 0.8229 - loss: 0.3694 - val_accuracy: 0.0000e+00 - val_loss: 1.0232\n",
      "Epoch 18/50\n",
      "\u001b[1m4/4\u001b[0m \u001b[32m━━━━━━━━━━━━━━━━━━━━\u001b[0m\u001b[37m\u001b[0m \u001b[1m0s\u001b[0m 25ms/step - accuracy: 0.8229 - loss: 0.3528 - val_accuracy: 0.0000e+00 - val_loss: 0.9849\n",
      "Epoch 19/50\n",
      "\u001b[1m4/4\u001b[0m \u001b[32m━━━━━━━━━━━━━━━━━━━━\u001b[0m\u001b[37m\u001b[0m \u001b[1m0s\u001b[0m 15ms/step - accuracy: 0.8229 - loss: 0.3362 - val_accuracy: 0.0000e+00 - val_loss: 0.9179\n",
      "Epoch 20/50\n",
      "\u001b[1m4/4\u001b[0m \u001b[32m━━━━━━━━━━━━━━━━━━━━\u001b[0m\u001b[37m\u001b[0m \u001b[1m0s\u001b[0m 17ms/step - accuracy: 0.8377 - loss: 0.3187 - val_accuracy: 0.0333 - val_loss: 0.8807\n",
      "Epoch 21/50\n",
      "\u001b[1m4/4\u001b[0m \u001b[32m━━━━━━━━━━━━━━━━━━━━\u001b[0m\u001b[37m\u001b[0m \u001b[1m0s\u001b[0m 17ms/step - accuracy: 0.8431 - loss: 0.2993 - val_accuracy: 0.0333 - val_loss: 0.8579\n",
      "Epoch 22/50\n",
      "\u001b[1m4/4\u001b[0m \u001b[32m━━━━━━━━━━━━━━━━━━━━\u001b[0m\u001b[37m\u001b[0m \u001b[1m0s\u001b[0m 15ms/step - accuracy: 0.8721 - loss: 0.2787 - val_accuracy: 0.3000 - val_loss: 0.8028\n",
      "Epoch 23/50\n",
      "\u001b[1m4/4\u001b[0m \u001b[32m━━━━━━━━━━━━━━━━━━━━\u001b[0m\u001b[37m\u001b[0m \u001b[1m0s\u001b[0m 14ms/step - accuracy: 0.9156 - loss: 0.2574 - val_accuracy: 0.4333 - val_loss: 0.7417\n",
      "Epoch 24/50\n",
      "\u001b[1m4/4\u001b[0m \u001b[32m━━━━━━━━━━━━━━━━━━━━\u001b[0m\u001b[37m\u001b[0m \u001b[1m0s\u001b[0m 14ms/step - accuracy: 0.9190 - loss: 0.2359 - val_accuracy: 0.5000 - val_loss: 0.6995\n",
      "Epoch 25/50\n",
      "\u001b[1m4/4\u001b[0m \u001b[32m━━━━━━━━━━━━━━━━━━━━\u001b[0m\u001b[37m\u001b[0m \u001b[1m0s\u001b[0m 15ms/step - accuracy: 0.9477 - loss: 0.2140 - val_accuracy: 0.6000 - val_loss: 0.6398\n",
      "Epoch 26/50\n",
      "\u001b[1m4/4\u001b[0m \u001b[32m━━━━━━━━━━━━━━━━━━━━\u001b[0m\u001b[37m\u001b[0m \u001b[1m0s\u001b[0m 15ms/step - accuracy: 0.9733 - loss: 0.1931 - val_accuracy: 0.7333 - val_loss: 0.5824\n",
      "Epoch 27/50\n",
      "\u001b[1m4/4\u001b[0m \u001b[32m━━━━━━━━━━━━━━━━━━━━\u001b[0m\u001b[37m\u001b[0m \u001b[1m0s\u001b[0m 16ms/step - accuracy: 0.9733 - loss: 0.1737 - val_accuracy: 0.8000 - val_loss: 0.5378\n",
      "Epoch 28/50\n",
      "\u001b[1m4/4\u001b[0m \u001b[32m━━━━━━━━━━━━━━━━━━━━\u001b[0m\u001b[37m\u001b[0m \u001b[1m0s\u001b[0m 14ms/step - accuracy: 0.9733 - loss: 0.1559 - val_accuracy: 0.8000 - val_loss: 0.4892\n",
      "Epoch 29/50\n",
      "\u001b[1m4/4\u001b[0m \u001b[32m━━━━━━━━━━━━━━━━━━━━\u001b[0m\u001b[37m\u001b[0m \u001b[1m0s\u001b[0m 15ms/step - accuracy: 0.9881 - loss: 0.1404 - val_accuracy: 0.8333 - val_loss: 0.4553\n",
      "Epoch 30/50\n",
      "\u001b[1m4/4\u001b[0m \u001b[32m━━━━━━━━━━━━━━━━━━━━\u001b[0m\u001b[37m\u001b[0m \u001b[1m0s\u001b[0m 16ms/step - accuracy: 0.9881 - loss: 0.1269 - val_accuracy: 0.8333 - val_loss: 0.4215\n",
      "Epoch 31/50\n",
      "\u001b[1m4/4\u001b[0m \u001b[32m━━━━━━━━━━━━━━━━━━━━\u001b[0m\u001b[37m\u001b[0m \u001b[1m0s\u001b[0m 15ms/step - accuracy: 0.9733 - loss: 0.1154 - val_accuracy: 0.8333 - val_loss: 0.3948\n",
      "Epoch 32/50\n",
      "\u001b[1m4/4\u001b[0m \u001b[32m━━━━━━━━━━━━━━━━━━━━\u001b[0m\u001b[37m\u001b[0m \u001b[1m0s\u001b[0m 15ms/step - accuracy: 0.9733 - loss: 0.1056 - val_accuracy: 0.8333 - val_loss: 0.3710\n",
      "Epoch 33/50\n",
      "\u001b[1m4/4\u001b[0m \u001b[32m━━━━━━━━━━━━━━━━━━━━\u001b[0m\u001b[37m\u001b[0m \u001b[1m0s\u001b[0m 15ms/step - accuracy: 0.9733 - loss: 0.0973 - val_accuracy: 0.8333 - val_loss: 0.3507\n",
      "Epoch 34/50\n",
      "\u001b[1m4/4\u001b[0m \u001b[32m━━━━━━━━━━━━━━━━━━━━\u001b[0m\u001b[37m\u001b[0m \u001b[1m0s\u001b[0m 16ms/step - accuracy: 0.9733 - loss: 0.0904 - val_accuracy: 0.8333 - val_loss: 0.3351\n",
      "Epoch 35/50\n",
      "\u001b[1m4/4\u001b[0m \u001b[32m━━━━━━━━━━━━━━━━━━━━\u001b[0m\u001b[37m\u001b[0m \u001b[1m0s\u001b[0m 16ms/step - accuracy: 0.9733 - loss: 0.0844 - val_accuracy: 0.8333 - val_loss: 0.3202\n",
      "Epoch 36/50\n",
      "\u001b[1m4/4\u001b[0m \u001b[32m━━━━━━━━━━━━━━━━━━━━\u001b[0m\u001b[37m\u001b[0m \u001b[1m0s\u001b[0m 15ms/step - accuracy: 0.9733 - loss: 0.0794 - val_accuracy: 0.8333 - val_loss: 0.3088\n",
      "Epoch 37/50\n",
      "\u001b[1m4/4\u001b[0m \u001b[32m━━━━━━━━━━━━━━━━━━━━\u001b[0m\u001b[37m\u001b[0m \u001b[1m0s\u001b[0m 16ms/step - accuracy: 0.9819 - loss: 0.0751 - val_accuracy: 0.8333 - val_loss: 0.2986\n",
      "Epoch 38/50\n",
      "\u001b[1m4/4\u001b[0m \u001b[32m━━━━━━━━━━━━━━━━━━━━\u001b[0m\u001b[37m\u001b[0m \u001b[1m0s\u001b[0m 14ms/step - accuracy: 0.9819 - loss: 0.0714 - val_accuracy: 0.8333 - val_loss: 0.2896\n",
      "Epoch 39/50\n",
      "\u001b[1m4/4\u001b[0m \u001b[32m━━━━━━━━━━━━━━━━━━━━\u001b[0m\u001b[37m\u001b[0m \u001b[1m0s\u001b[0m 19ms/step - accuracy: 0.9852 - loss: 0.0681 - val_accuracy: 0.8333 - val_loss: 0.2825\n",
      "Epoch 40/50\n",
      "\u001b[1m4/4\u001b[0m \u001b[32m━━━━━━━━━━━━━━━━━━━━\u001b[0m\u001b[37m\u001b[0m \u001b[1m0s\u001b[0m 15ms/step - accuracy: 0.9852 - loss: 0.0653 - val_accuracy: 0.8333 - val_loss: 0.2758\n",
      "Epoch 41/50\n",
      "\u001b[1m4/4\u001b[0m \u001b[32m━━━━━━━━━━━━━━━━━━━━\u001b[0m\u001b[37m\u001b[0m \u001b[1m0s\u001b[0m 18ms/step - accuracy: 0.9852 - loss: 0.0628 - val_accuracy: 0.8333 - val_loss: 0.2699\n",
      "Epoch 42/50\n",
      "\u001b[1m4/4\u001b[0m \u001b[32m━━━━━━━━━━━━━━━━━━━━\u001b[0m\u001b[37m\u001b[0m \u001b[1m0s\u001b[0m 15ms/step - accuracy: 0.9852 - loss: 0.0607 - val_accuracy: 0.8333 - val_loss: 0.2651\n",
      "Epoch 43/50\n",
      "\u001b[1m4/4\u001b[0m \u001b[32m━━━━━━━━━━━━━━━━━━━━\u001b[0m\u001b[37m\u001b[0m \u001b[1m0s\u001b[0m 16ms/step - accuracy: 0.9852 - loss: 0.0587 - val_accuracy: 0.8667 - val_loss: 0.2605\n",
      "Epoch 44/50\n",
      "\u001b[1m4/4\u001b[0m \u001b[32m━━━━━━━━━━━━━━━━━━━━\u001b[0m\u001b[37m\u001b[0m \u001b[1m0s\u001b[0m 16ms/step - accuracy: 0.9852 - loss: 0.0569 - val_accuracy: 0.8667 - val_loss: 0.2565\n",
      "Epoch 45/50\n",
      "\u001b[1m4/4\u001b[0m \u001b[32m━━━━━━━━━━━━━━━━━━━━\u001b[0m\u001b[37m\u001b[0m \u001b[1m0s\u001b[0m 16ms/step - accuracy: 0.9852 - loss: 0.0554 - val_accuracy: 0.8667 - val_loss: 0.2530\n",
      "Epoch 46/50\n",
      "\u001b[1m4/4\u001b[0m \u001b[32m━━━━━━━━━━━━━━━━━━━━\u001b[0m\u001b[37m\u001b[0m \u001b[1m0s\u001b[0m 16ms/step - accuracy: 0.9852 - loss: 0.0539 - val_accuracy: 0.8667 - val_loss: 0.2498\n",
      "Epoch 47/50\n",
      "\u001b[1m4/4\u001b[0m \u001b[32m━━━━━━━━━━━━━━━━━━━━\u001b[0m\u001b[37m\u001b[0m \u001b[1m0s\u001b[0m 16ms/step - accuracy: 0.9852 - loss: 0.0526 - val_accuracy: 0.8667 - val_loss: 0.2470\n",
      "Epoch 48/50\n",
      "\u001b[1m4/4\u001b[0m \u001b[32m━━━━━━━━━━━━━━━━━━━━\u001b[0m\u001b[37m\u001b[0m \u001b[1m0s\u001b[0m 16ms/step - accuracy: 0.9852 - loss: 0.0514 - val_accuracy: 0.8667 - val_loss: 0.2445\n",
      "Epoch 49/50\n",
      "\u001b[1m4/4\u001b[0m \u001b[32m━━━━━━━━━━━━━━━━━━━━\u001b[0m\u001b[37m\u001b[0m \u001b[1m0s\u001b[0m 16ms/step - accuracy: 0.9852 - loss: 0.0503 - val_accuracy: 0.8667 - val_loss: 0.2421\n",
      "Epoch 50/50\n",
      "\u001b[1m4/4\u001b[0m \u001b[32m━━━━━━━━━━━━━━━━━━━━\u001b[0m\u001b[37m\u001b[0m \u001b[1m0s\u001b[0m 17ms/step - accuracy: 0.9852 - loss: 0.0493 - val_accuracy: 0.8667 - val_loss: 0.2401\n"
     ]
    },
    {
     "data": {
      "image/png": "[encoded data removed]",
      "text/plain": [
       "<Figure size 640x480 with 1 Axes>"
      ]
     },
     "metadata": {},
     "output_type": "display_data"
    },
    {
     "name": "stdout",
     "output_type": "stream",
     "text": [
      "Final Training Accuracy: 0.9916666746139526\n",
      "Final Validation Accuracy: 0.8666666746139526\n"
     ]
    }
   ],
   "source": [
    "model.compile(\n",
    "    loss=tf.keras.losses.SparseCategoricalCrossentropy(),\n",
    "    optimizer=tf.keras.optimizers.Adam(learning_rate=0.01),\n",
    "    metrics=[\"accuracy\"]\n",
    ")\n",
    "\n",
    "import matplotlib.pyplot as plt\n",
    "\n",
    "history = model.fit(\n",
    "    X, Y,\n",
    "    epochs=50,\n",
    "    validation_split=0.2  # Splitting data into training and validation sets\n",
    ")\n",
    "\n",
    "# Extracting training and validation loss from history\n",
    "training_loss = history.history['loss']\n",
    "validation_loss = history.history['val_loss']\n",
    "\n",
    "# Plotting training and validation loss\n",
    "plt.plot(training_loss, label='Training Loss')\n",
    "plt.plot(validation_loss, label='Validation Loss')\n",
    "plt.xlabel('Epochs')\n",
    "plt.ylabel('Loss')\n",
    "plt.title('Training and Validation Loss')\n",
    "plt.legend()\n",
    "plt.show()\n",
    "\n",
    "final_training_accuracy = history.history['accuracy'][-1]\n",
    "final_validation_accuracy = history.history['val_accuracy'][-1]\n",
    "\n",
    "print(\"Final Training Accuracy:\", final_training_accuracy)\n",
    "print(\"Final Validation Accuracy:\", final_validation_accuracy)"
   ]
  },
  {
   "cell_type": "code",
   "execution_count": 14,
   "metadata": {},
   "outputs": [
    {
     "data": {
      "text/plain": [
       "<keras.src.callbacks.history.History at 0x1eb6c4eaa80>"
      ]
     },
     "execution_count": 14,
     "metadata": {},
     "output_type": "execute_result"
    }
   ],
   "source": [
    "history"
   ]
  },
  {
   "cell_type": "code",
   "execution_count": 30,
   "metadata": {},
   "outputs": [
    {
     "name": "stdout",
     "output_type": "stream",
     "text": [
      "\u001b[1m1/1\u001b[0m \u001b[32m━━━━━━━━━━━━━━━━━━━━\u001b[0m\u001b[37m\u001b[0m \u001b[1m0s\u001b[0m 30ms/step\n",
      "Predicted probabilities: \n",
      "[[6.82e-04 9.67e-01 3.25e-02]]\n",
      "Largest predicted class index: 1\n",
      "Predicted class: iris-versicolor\n"
     ]
    }
   ],
   "source": [
    "sample_setosa = X[76]\n",
    "\n",
    "prediction = model.predict(sample_setosa.reshape(1, 4))  \n",
    "\n",
    "print(f\"Predicted probabilities: \\n{prediction}\")\n",
    "predicted_class_index = np.argmax(prediction)\n",
    "print(f\"Largest predicted class index: {predicted_class_index}\")\n",
    "\n",
    "if predicted_class_index == 0:\n",
    "    print(\"Predicted class: iris-setosa\")\n",
    "elif predicted_class_index == 1:\n",
    "    print(\"Predicted class: iris-versicolor\")\n",
    "else:\n",
    "    print(\"Predicted class: iris-virginica\")\n"
   ]
  },
  {
   "cell_type": "code",
   "execution_count": null,
   "metadata": {},
   "outputs": [],
   "source": []
  },
  {
   "cell_type": "code",
   "execution_count": null,
   "metadata": {},
   "outputs": [],
   "source": []
  }
 ],
 "metadata": {
  "dl_toc_settings": {
   "rndtag": "89367"
  },
  "kernelspec": {
   "display_name": "Python 3 (ipykernel)",
   "language": "python",
   "name": "python3"
  },
  "language_info": {
   "codemirror_mode": {
    "name": "ipython",
    "version": 3
   },
   "file_extension": ".py",
   "mimetype": "text/x-python",
   "name": "python",
   "nbconvert_exporter": "python",
   "pygments_lexer": "ipython3",
   "version": "3.12.3"
  }
 },
 "nbformat": 4,
 "nbformat_minor": 4
}
